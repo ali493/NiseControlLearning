{
  "nbformat": 4,
  "nbformat_minor": 0,
  "metadata": {
    "colab": {
      "name": "Chapter 4 : State Equation.ipynb",
      "provenance": [],
      "collapsed_sections": []
    },
    "kernelspec": {
      "name": "python3",
      "display_name": "Python 3"
    }
  },
  "cells": [
    {
      "cell_type": "markdown",
      "metadata": {
        "id": "IOYdUU2dIT7l",
        "colab_type": "text"
      },
      "source": [
        "\n",
        "<figure>\n",
        "<center>\n",
        "<img src='https://github.com/ali493/ControlNise/blob/master/Screenshot%20from%202020-06-14%2023-10-04.png?raw=true' />\n",
        "</figure>"
      ]
    },
    {
      "cell_type": "code",
      "metadata": {
        "id": "AOwMdfD1jGG9",
        "colab_type": "code",
        "colab": {}
      },
      "source": [
        "import sympy as sym\n",
        "from sympy import init_printing\n",
        "from sympy import simplify, cos, sin\n",
        "\n",
        "init_printing()\n",
        "from sympy.abc import s\n",
        "t = sym.symbols(' t', positive=True)\n",
        "A = sym.Matrix([[0, 1],[-8, -6]])\n",
        "\n",
        "B = sym.Matrix([[0],[1]])\n",
        "C = sym.Matrix([[1,0]])\n",
        "I = sym.Matrix([[ 1,  0],[0, 1]])\n"
      ],
      "execution_count": 0,
      "outputs": []
    },
    {
      "cell_type": "markdown",
      "metadata": {
        "id": "eTEh2IFVFCPu",
        "colab_type": "text"
      },
      "source": [
        "Solving for X(s) \n",
        "\n",
        "<figure>\n",
        "<center>\n",
        "<img src='https://github.com/ali493/ControlNise/blob/master/Screenshot%20from%202020-06-14%2022-51-16.png?raw=true' />\n",
        "</figure>"
      ]
    },
    {
      "cell_type": "code",
      "metadata": {
        "id": "bHAiPimzFhSt",
        "colab_type": "code",
        "colab": {}
      },
      "source": [
        "x0 = sym.Matrix([[1], [0]])\n",
        "X = simplify((s*I-A)**-1)*(x0 + B*(1/(s+1)))\n",
        "Y = C * X"
      ],
      "execution_count": 0,
      "outputs": []
    },
    {
      "cell_type": "markdown",
      "metadata": {
        "id": "K5HhDpq_Fp59",
        "colab_type": "text"
      },
      "source": [
        "<figure>\n",
        "<center>\n",
        "<img src='https://github.com/ali493/ControlNise/blob/master/Screenshot%20from%202020-06-14%2022-51-28.png?raw=true' />\n",
        "</figure>\n",
        "\n",
        "\n"
      ]
    },
    {
      "cell_type": "code",
      "metadata": {
        "id": "Mv3tZDtHj06s",
        "colab_type": "code",
        "outputId": "c79e838e-1790-4394-cd12-4e8a22315bb2",
        "colab": {
          "base_uri": "https://localhost:8080/",
          "height": 47
        }
      },
      "source": [
        "Y"
      ],
      "execution_count": 0,
      "outputs": [
        {
          "output_type": "execute_result",
          "data": {
            "text/latex": "$$\\left[\\begin{matrix}\\frac{s + 6}{s \\left(s + 6\\right) + 8} + \\frac{1}{\\left(s + 1\\right) \\left(s \\left(s + 6\\right) + 8\\right)}\\end{matrix}\\right]$$",
            "text/plain": [
              "⎡    s + 6                  1           ⎤\n",
              "⎢───────────── + ───────────────────────⎥\n",
              "⎣s⋅(s + 6) + 8   (s + 1)⋅(s⋅(s + 6) + 8)⎦"
            ]
          },
          "metadata": {
            "tags": []
          },
          "execution_count": 2
        }
      ]
    },
    {
      "cell_type": "code",
      "metadata": {
        "id": "30gHcmUUj5E3",
        "colab_type": "code",
        "outputId": "d1731e84-98c2-4b77-869c-f8a9588b3946",
        "colab": {
          "base_uri": "https://localhost:8080/",
          "height": 68
        }
      },
      "source": [
        "X"
      ],
      "execution_count": 0,
      "outputs": [
        {
          "output_type": "execute_result",
          "data": {
            "text/latex": "$$\\left[\\begin{matrix}\\frac{s + 6}{s \\left(s + 6\\right) + 8} + \\frac{1}{\\left(s + 1\\right) \\left(s \\left(s + 6\\right) + 8\\right)}\\\\\\frac{s}{\\left(s + 1\\right) \\left(s \\left(s + 6\\right) + 8\\right)} - \\frac{8}{s \\left(s + 6\\right) + 8}\\end{matrix}\\right]$$",
            "text/plain": [
              "⎡    s + 6                  1           ⎤\n",
              "⎢───────────── + ───────────────────────⎥\n",
              "⎢s⋅(s + 6) + 8   (s + 1)⋅(s⋅(s + 6) + 8)⎥\n",
              "⎢                                       ⎥\n",
              "⎢           s                    8      ⎥\n",
              "⎢─────────────────────── - ─────────────⎥\n",
              "⎣(s + 1)⋅(s⋅(s + 6) + 8)   s⋅(s + 6) + 8⎦"
            ]
          },
          "metadata": {
            "tags": []
          },
          "execution_count": 3
        }
      ]
    },
    {
      "cell_type": "markdown",
      "metadata": {
        "id": "oiaw2ahyF6MY",
        "colab_type": "text"
      },
      "source": [
        "<figure>\n",
        "<center>\n",
        "<img src='https://github.com/ali493/ControlNise/blob/master/Screenshot%20from%202020-06-14%2022-51-59.png?raw=true' />\n",
        "</figure>\n",
        "\n",
        "\n"
      ]
    },
    {
      "cell_type": "code",
      "metadata": {
        "id": "07QmAnBWkLna",
        "colab_type": "code",
        "colab": {}
      },
      "source": [
        "ss =  simplify((s*I-A)**-1)\n",
        "phi = sym.inverse_laplace_transform(ss, s, t)"
      ],
      "execution_count": 0,
      "outputs": []
    },
    {
      "cell_type": "code",
      "metadata": {
        "id": "astVrZfkk7bK",
        "colab_type": "code",
        "outputId": "aa347f0b-8b20-4e0d-e275-eb78c7f6c56d",
        "colab": {
          "base_uri": "https://localhost:8080/",
          "height": 58
        }
      },
      "source": [
        "simplify(phi)"
      ],
      "execution_count": 0,
      "outputs": [
        {
          "output_type": "execute_result",
          "data": {
            "text/latex": "$$\\left[\\begin{matrix}\\left(2 e^{2 t} - 1\\right) e^{- 4 t} & \\frac{1}{2} \\left(e^{2 t} - 1\\right) e^{- 4 t}\\\\\\left(- 4 e^{2 t} + 4\\right) e^{- 4 t} & \\left(- e^{2 t} + 2\\right) e^{- 4 t}\\end{matrix}\\right]$$",
            "text/plain": [
              "⎡                       ⎛ 2⋅t    ⎞  -4⋅t ⎤\n",
              "⎢ ⎛   2⋅t    ⎞  -4⋅t    ⎝ℯ    - 1⎠⋅ℯ     ⎥\n",
              "⎢ ⎝2⋅ℯ    - 1⎠⋅ℯ        ──────────────── ⎥\n",
              "⎢                              2         ⎥\n",
              "⎢                                        ⎥\n",
              "⎢⎛     2⋅t    ⎞  -4⋅t  ⎛   2⋅t    ⎞  -4⋅t⎥\n",
              "⎣⎝- 4⋅ℯ    + 4⎠⋅ℯ      ⎝- ℯ    + 2⎠⋅ℯ    ⎦"
            ]
          },
          "metadata": {
            "tags": []
          },
          "execution_count": 5
        }
      ]
    },
    {
      "cell_type": "markdown",
      "metadata": {
        "id": "8M37QzM-GJWq",
        "colab_type": "text"
      },
      "source": [
        "\n",
        "<figure>\n",
        "<center>\n",
        "<img src='https://github.com/ali493/ControlNise/blob/master/Screenshot%20from%202020-06-14%2022-51-52.png?raw=true' />\n",
        "</figure>\n",
        "\n",
        "\n",
        "\n"
      ]
    },
    {
      "cell_type": "code",
      "metadata": {
        "id": "DjGA1w19mFJv",
        "colab_type": "code",
        "colab": {}
      },
      "source": [
        "from sympy.abc import theta\n",
        "\n",
        "from sympy import *\n",
        "tav= symbols(\"tav\")\n",
        "\n",
        "phi1 = phi.subs(t, t-tav)\n",
        "FF = phi1*B\n",
        "FF = simplify(FF)\n",
        "intFF = simplify(integrate(FF, (tav, 0, t)))\n",
        "x_t = phi * x0 + intFF "
      ],
      "execution_count": 0,
      "outputs": []
    },
    {
      "cell_type": "code",
      "metadata": {
        "id": "tdAi5CJlzAdf",
        "colab_type": "code",
        "outputId": "d21c1f1f-7842-4161-a177-c00f2d92e9af",
        "colab": {
          "base_uri": "https://localhost:8080/",
          "height": 58
        }
      },
      "source": [
        "phi * x0"
      ],
      "execution_count": 0,
      "outputs": [
        {
          "output_type": "execute_result",
          "data": {
            "text/latex": "$$\\left[\\begin{matrix}\\left(2 e^{2 t} - 1\\right) e^{- 4 t}\\\\\\left(- 4 e^{2 t} + 4\\right) e^{- 4 t}\\end{matrix}\\right]$$",
            "text/plain": [
              "⎡ ⎛   2⋅t    ⎞  -4⋅t ⎤\n",
              "⎢ ⎝2⋅ℯ    - 1⎠⋅ℯ     ⎥\n",
              "⎢                    ⎥\n",
              "⎢⎛     2⋅t    ⎞  -4⋅t⎥\n",
              "⎣⎝- 4⋅ℯ    + 4⎠⋅ℯ    ⎦"
            ]
          },
          "metadata": {
            "tags": []
          },
          "execution_count": 7
        }
      ]
    },
    {
      "cell_type": "code",
      "metadata": {
        "id": "7XyZ6VpkzDNg",
        "colab_type": "code",
        "outputId": "71c25af2-1187-487b-b7ae-8d87180ac528",
        "colab": {
          "base_uri": "https://localhost:8080/",
          "height": 58
        }
      },
      "source": [
        "intFF"
      ],
      "execution_count": 0,
      "outputs": [
        {
          "output_type": "execute_result",
          "data": {
            "text/latex": "$$\\left[\\begin{matrix}\\frac{1}{8} \\left(e^{4 t} - 2 e^{2 t} + 1\\right) e^{- 4 t}\\\\\\frac{1}{2} \\left(e^{2 t} - 1\\right) e^{- 4 t}\\end{matrix}\\right]$$",
            "text/plain": [
              "⎡⎛ 4⋅t      2⋅t    ⎞  -4⋅t⎤\n",
              "⎢⎝ℯ    - 2⋅ℯ    + 1⎠⋅ℯ    ⎥\n",
              "⎢─────────────────────────⎥\n",
              "⎢            8            ⎥\n",
              "⎢                         ⎥\n",
              "⎢    ⎛ 2⋅t    ⎞  -4⋅t     ⎥\n",
              "⎢    ⎝ℯ    - 1⎠⋅ℯ         ⎥\n",
              "⎢    ────────────────     ⎥\n",
              "⎣           2             ⎦"
            ]
          },
          "metadata": {
            "tags": []
          },
          "execution_count": 8
        }
      ]
    },
    {
      "cell_type": "code",
      "metadata": {
        "id": "y2FWgwbLzEh2",
        "colab_type": "code",
        "outputId": "cfc60e8d-9347-4ba0-d122-7d4523eebc70",
        "colab": {
          "base_uri": "https://localhost:8080/",
          "height": 58
        }
      },
      "source": [
        "x_t"
      ],
      "execution_count": 0,
      "outputs": [
        {
          "output_type": "execute_result",
          "data": {
            "text/latex": "$$\\left[\\begin{matrix}\\left(2 e^{2 t} - 1\\right) e^{- 4 t} + \\frac{1}{8} \\left(e^{4 t} - 2 e^{2 t} + 1\\right) e^{- 4 t}\\\\\\left(- 4 e^{2 t} + 4\\right) e^{- 4 t} + \\frac{1}{2} \\left(e^{2 t} - 1\\right) e^{- 4 t}\\end{matrix}\\right]$$",
            "text/plain": [
              "⎡                     ⎛ 4⋅t      2⋅t    ⎞  -4⋅t⎤\n",
              "⎢⎛   2⋅t    ⎞  -4⋅t   ⎝ℯ    - 2⋅ℯ    + 1⎠⋅ℯ    ⎥\n",
              "⎢⎝2⋅ℯ    - 1⎠⋅ℯ     + ─────────────────────────⎥\n",
              "⎢                                 8            ⎥\n",
              "⎢                                              ⎥\n",
              "⎢                          ⎛ 2⋅t    ⎞  -4⋅t    ⎥\n",
              "⎢   ⎛     2⋅t    ⎞  -4⋅t   ⎝ℯ    - 1⎠⋅ℯ        ⎥\n",
              "⎢   ⎝- 4⋅ℯ    + 4⎠⋅ℯ     + ────────────────    ⎥\n",
              "⎣                                 2            ⎦"
            ]
          },
          "metadata": {
            "tags": []
          },
          "execution_count": 9
        }
      ]
    }
  ]
}