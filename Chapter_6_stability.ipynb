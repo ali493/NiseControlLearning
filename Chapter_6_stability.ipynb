{
  "nbformat": 4,
  "nbformat_minor": 0,
  "metadata": {
    "colab": {
      "name": "Chapter 6 : stability.ipynb",
      "provenance": [],
      "collapsed_sections": []
    },
    "kernelspec": {
      "name": "python3",
      "display_name": "Python 3"
    }
  },
  "cells": [
    {
      "cell_type": "code",
      "metadata": {
        "id": "OY9K5GpQplm4",
        "colab_type": "code",
        "outputId": "97c215f2-0b63-48e5-ac31-38ac72444a14",
        "colab": {
          "base_uri": "https://localhost:8080/",
          "height": 523
        }
      },
      "source": [
        "!pip install tbcontrol\n",
        "!pip install control"
      ],
      "execution_count": 0,
      "outputs": [
        {
          "output_type": "stream",
          "text": [
            "Collecting tbcontrol\n",
            "  Downloading https://files.pythonhosted.org/packages/f7/63/303b42c56a4f1c74bd0890a30789161429ab9e2c45b2dade3417e3b4e56c/tbcontrol-0.2.1-py3-none-any.whl\n",
            "Requirement already satisfied: numpy in /usr/local/lib/python3.6/dist-packages (from tbcontrol) (1.18.5)\n",
            "Requirement already satisfied: packaging in /usr/local/lib/python3.6/dist-packages (from tbcontrol) (20.4)\n",
            "Requirement already satisfied: scipy in /usr/local/lib/python3.6/dist-packages (from tbcontrol) (1.4.1)\n",
            "Requirement already satisfied: tqdm in /usr/local/lib/python3.6/dist-packages (from tbcontrol) (4.41.1)\n",
            "Requirement already satisfied: pyparsing>=2.0.2 in /usr/local/lib/python3.6/dist-packages (from packaging->tbcontrol) (2.4.7)\n",
            "Requirement already satisfied: six in /usr/local/lib/python3.6/dist-packages (from packaging->tbcontrol) (1.12.0)\n",
            "Installing collected packages: tbcontrol\n",
            "Successfully installed tbcontrol-0.2.1\n",
            "Collecting control\n",
            "\u001b[?25l  Downloading https://files.pythonhosted.org/packages/e8/b0/32a903138505dd4ea523f8a3fc156c4272aa58b10100ef24ff74ced2fae8/control-0.8.3.tar.gz (249kB)\n",
            "\u001b[K     |████████████████████████████████| 256kB 3.4MB/s \n",
            "\u001b[?25hRequirement already satisfied: numpy in /usr/local/lib/python3.6/dist-packages (from control) (1.18.5)\n",
            "Requirement already satisfied: scipy in /usr/local/lib/python3.6/dist-packages (from control) (1.4.1)\n",
            "Requirement already satisfied: matplotlib in /usr/local/lib/python3.6/dist-packages (from control) (3.2.1)\n",
            "Requirement already satisfied: python-dateutil>=2.1 in /usr/local/lib/python3.6/dist-packages (from matplotlib->control) (2.8.1)\n",
            "Requirement already satisfied: pyparsing!=2.0.4,!=2.1.2,!=2.1.6,>=2.0.1 in /usr/local/lib/python3.6/dist-packages (from matplotlib->control) (2.4.7)\n",
            "Requirement already satisfied: kiwisolver>=1.0.1 in /usr/local/lib/python3.6/dist-packages (from matplotlib->control) (1.2.0)\n",
            "Requirement already satisfied: cycler>=0.10 in /usr/local/lib/python3.6/dist-packages (from matplotlib->control) (0.10.0)\n",
            "Requirement already satisfied: six>=1.5 in /usr/local/lib/python3.6/dist-packages (from python-dateutil>=2.1->matplotlib->control) (1.12.0)\n",
            "Building wheels for collected packages: control\n",
            "  Building wheel for control (setup.py) ... \u001b[?25l\u001b[?25hdone\n",
            "  Created wheel for control: filename=control-0.8.3-py2.py3-none-any.whl size=260982 sha256=43ed1281aa0337636a1c574a115d5742f4d296c146a87a2d1c22c7fedc76d07d\n",
            "  Stored in directory: /root/.cache/pip/wheels/c2/d9/cc/90b28cb139a6320a3af2285428b6da87eee8d8920c78bb0223\n",
            "Successfully built control\n",
            "Installing collected packages: control\n",
            "Successfully installed control-0.8.3\n"
          ],
          "name": "stdout"
        }
      ]
    },
    {
      "cell_type": "code",
      "metadata": {
        "id": "vkOWDp3qk6G5",
        "colab_type": "code",
        "outputId": "4be36908-e881-446e-e225-04db4882a981",
        "colab": {
          "base_uri": "https://localhost:8080/",
          "height": 43
        }
      },
      "source": [
        "\n",
        "import sympy\n",
        "from sympy import degree\n",
        "from sympy import poly\n",
        "from tbcontrol.symbolic import routh\n",
        "sympy.init_printing()\n",
        "\n",
        "s = sympy.Symbol('s')\n",
        "K_c, t = sympy.symbols('K_c, t', positive=True)\n",
        "\n",
        "#G_p = K_c/(s*(s + 7)*(s+11))\n",
        "G_p = K_c*(s+20)/(s*(s + 2)*(s + 3))\n",
        "forward = G_p\n",
        "backward = 1\n",
        "\n",
        "G_CL = backward*forward/(1 + forward*backward)\n",
        "sympy.simplify(G_CL)\n"
      ],
      "execution_count": 0,
      "outputs": [
        {
          "output_type": "execute_result",
          "data": {
            "image/png": "[encoded data removed]",
            "text/latex": "$$\\frac{K_{c} \\left(s + 20\\right)}{K_{c} \\left(s + 20\\right) + s \\left(s + 2\\right) \\left(s + 3\\right)}$$",
            "text/plain": [
              "          K_c⋅(s + 20)          \n",
              "────────────────────────────────\n",
              "K_c⋅(s + 20) + s⋅(s + 2)⋅(s + 3)"
            ]
          },
          "metadata": {
            "tags": []
          },
          "execution_count": 38
        }
      ]
    },
    {
      "cell_type": "markdown",
      "metadata": {
        "id": "QaY-rpw9ZiTW",
        "colab_type": "text"
      },
      "source": [
        "# Generating a Basic Routh Table\n",
        "\n",
        "If we have this system with this Transfer function\n",
        "\n",
        "<figure>\n",
        "<center>\n",
        "<img src='https://github.com/ali493/ControlNise/blob/master/Screenshot%20from%202020-06-14%2001-09-34.png?raw=true' />\n",
        "</figure>\n",
        "\n",
        "We can create Routh Table\n",
        "\n",
        "<figure>\n",
        "<center>\n",
        "<img src='https://github.com/ali493/ControlNise/blob/master/Screenshot%20from%202020-06-14%2001-07-34.png?raw=true' />\n",
        "</figure>\n",
        "\n",
        "\n"
      ]
    },
    {
      "cell_type": "code",
      "metadata": {
        "id": "qwXGNimEl1Td",
        "colab_type": "code",
        "outputId": "b61e8c09-2702-46dc-e02b-d345127ae5a3",
        "colab": {
          "base_uri": "https://localhost:8080/",
          "height": 99
        }
      },
      "source": [
        "ce = sympy.denom(G_CL.simplify())\n",
        "Poly_ce = poly(ce,s)\n",
        "A = routh(Poly_ce)\n",
        "routh(Poly_ce)"
      ],
      "execution_count": 0,
      "outputs": [
        {
          "output_type": "execute_result",
          "data": {
            "text/latex": "$$\\left[\\begin{matrix}1 & K_{c} + 6\\\\5 & 20 K_{c}\\\\- 3 K_{c} + 6 & 0\\\\20 K_{c} & 0\\end{matrix}\\right]$$",
            "text/plain": [
              "⎡    1       K_c + 6⎤\n",
              "⎢                   ⎥\n",
              "⎢    5       20⋅K_c ⎥\n",
              "⎢                   ⎥\n",
              "⎢-3⋅K_c + 6     0   ⎥\n",
              "⎢                   ⎥\n",
              "⎣  20⋅K_c       0   ⎦"
            ]
          },
          "metadata": {
            "tags": []
          },
          "execution_count": 39
        }
      ]
    },
    {
      "cell_type": "code",
      "metadata": {
        "id": "RGoGpZQYqP1y",
        "colab_type": "code",
        "outputId": "094b39fb-f706-4051-a621-0437db81a53b",
        "colab": {
          "base_uri": "https://localhost:8080/",
          "height": 39
        }
      },
      "source": [
        "sympy.solve([e > 0 for e in A[:, 0]], K_c)"
      ],
      "execution_count": 0,
      "outputs": [
        {
          "output_type": "execute_result",
          "data": {
            "image/png": "[encoded data removed]",
            "text/latex": "$$K_{c} < 2$$",
            "text/plain": [
              "K_c < 2"
            ]
          },
          "metadata": {
            "tags": []
          },
          "execution_count": 40
        }
      ]
    }
  ]
}